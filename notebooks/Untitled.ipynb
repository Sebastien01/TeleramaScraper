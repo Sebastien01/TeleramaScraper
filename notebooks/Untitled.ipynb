{
 "cells": [
  {
   "cell_type": "code",
   "execution_count": 4,
   "id": "8bfef42d",
   "metadata": {
    "ExecuteTime": {
     "end_time": "2021-08-09T11:37:38.307931Z",
     "start_time": "2021-08-09T11:37:38.266642Z"
    }
   },
   "outputs": [],
   "source": [
    "import streamlit as st"
   ]
  },
  {
   "cell_type": "code",
   "execution_count": null,
   "id": "7fadf61e",
   "metadata": {},
   "outputs": [],
   "source": [
    "from scra"
   ]
  },
  {
   "cell_type": "code",
   "execution_count": 3,
   "id": "7adc4851",
   "metadata": {
    "ExecuteTime": {
     "end_time": "2021-08-09T11:37:15.624865Z",
     "start_time": "2021-08-09T11:37:15.570048Z"
    }
   },
   "outputs": [],
   "source": [
    "%load_ext autoreload\n",
    "%autoreload 2"
   ]
  },
  {
   "cell_type": "code",
   "execution_count": 2,
   "id": "694a485c",
   "metadata": {
    "ExecuteTime": {
     "end_time": "2021-08-09T11:00:25.776361Z",
     "start_time": "2021-08-09T11:00:25.451660Z"
    }
   },
   "outputs": [
    {
     "name": "stderr",
     "output_type": "stream",
     "text": [
      "2021-08-09 13:00:25.769 \n",
      "  \u001b[33m\u001b[1mWarning:\u001b[0m to view this Streamlit app on a browser, run it with the following\n",
      "  command:\n",
      "\n",
      "    streamlit run /Users/sebastien/.pyenv/versions/3.8.6/envs/lewagon/lib/python3.8/site-packages/ipykernel_launcher.py [ARGUMENTS]\n"
     ]
    }
   ],
   "source": [
    "st.title(\"Github Scraper\")\n",
    "\n",
    "userName = st.text_input('Enter Github Username')\n",
    "\n",
    "if userName != '':\n",
    "    try:\n",
    "        st.write('lol')\n",
    "        \n",
    "        st.subheader(\" Recent Repositories\")\n",
    "        st.table(repo_info)\n",
    "    except:\n",
    "        st.subheader(\"User doesn't exist\")"
   ]
  },
  {
   "cell_type": "code",
   "execution_count": null,
   "id": "c4362148",
   "metadata": {},
   "outputs": [],
   "source": []
  }
 ],
 "metadata": {
  "kernelspec": {
   "display_name": "Python 3",
   "language": "python",
   "name": "python3"
  },
  "language_info": {
   "codemirror_mode": {
    "name": "ipython",
    "version": 3
   },
   "file_extension": ".py",
   "mimetype": "text/x-python",
   "name": "python",
   "nbconvert_exporter": "python",
   "pygments_lexer": "ipython3",
   "version": "3.8.6"
  },
  "toc": {
   "base_numbering": 1,
   "nav_menu": {},
   "number_sections": true,
   "sideBar": true,
   "skip_h1_title": false,
   "title_cell": "Table of Contents",
   "title_sidebar": "Contents",
   "toc_cell": false,
   "toc_position": {},
   "toc_section_display": true,
   "toc_window_display": false
  },
  "varInspector": {
   "cols": {
    "lenName": 16,
    "lenType": 16,
    "lenVar": 40
   },
   "kernels_config": {
    "python": {
     "delete_cmd_postfix": "",
     "delete_cmd_prefix": "del ",
     "library": "var_list.py",
     "varRefreshCmd": "print(var_dic_list())"
    },
    "r": {
     "delete_cmd_postfix": ") ",
     "delete_cmd_prefix": "rm(",
     "library": "var_list.r",
     "varRefreshCmd": "cat(var_dic_list()) "
    }
   },
   "types_to_exclude": [
    "module",
    "function",
    "builtin_function_or_method",
    "instance",
    "_Feature"
   ],
   "window_display": false
  }
 },
 "nbformat": 4,
 "nbformat_minor": 5
}
